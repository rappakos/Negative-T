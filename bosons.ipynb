{
 "cells": [
  {
   "cell_type": "markdown",
   "metadata": {},
   "source": [
    "Bosonic particles that can occupy a given set of "
   ]
  },
  {
   "cell_type": "code",
   "execution_count": 3,
   "metadata": {
    "collapsed": false
   },
   "outputs": [
    {
     "name": "stdout",
     "output_type": "stream",
     "text": [
      "# counting states\n"
     ]
    }
   ],
   "source": [
    "from pylab import *\n",
    "import scipy.interpolate as sp\n",
    "\n",
    "# number of bosons -- do not change\n",
    "N=10\n",
    "# number of levels: L + 1\n",
    "L=10\n",
    "txt='N=%d bosons,\\nL+1 =%d levels'  % (N, L+1)\n",
    "\n",
    "# full Hilbert space dim = binom(N+L,N)\n",
    "dim = prod( arange(N+1,N+L+1))/prod( arange(1,N+1))\n",
    "\n",
    "# possible energy values: E/Delta = 0,1,2, ... N*L\n",
    "e=arange(0.,N*L+1)\n",
    "wb=zeros(N*L+1)\n",
    "count=0\n",
    "# restricted integer partitions needed -- this is the dirty but safe way\n",
    "print(\"# counting states\")\n",
    "for l10 in arange(0,L+1):\n",
    "    for l9 in arange(0,l10+1):\n",
    "        for l8 in arange(0,l9+1):\n",
    "            for l7 in arange(0,l8+1):\n",
    "                for l6 in arange(0,l7+1):\n",
    "                    for l5 in arange(0,l6+1):\n",
    "                        for l4 in arange(0,l5+1):\n",
    "                            for l3 in arange(0,l4+1):\n",
    "                                for l2 in arange(0,l3+1):\n",
    "                                    for l1 in arange(0,l2+1):\n",
    "                                        n=l1+l2+l3+l4+l5+l6+l7+l8+l9+l10 # this is the energy\n",
    "                                        wb[n] +=1.0 # we increase the value in the corresponding energy bin\n",
    "                                        count +=1\n",
    "                                        #sys.stdout.write('\\rstate %d of %d' % (count,dim)) # this is just a simple process counter\n",
    "                                        #sys.stdout.flush()\n",
    "\n",
    "#sys.stdout.write('\\n')\n",
    "\n",
    "# density of states and energy with \"Gibbs\" density matrix \n",
    "wg=cumsum(wb)\n",
    "eg=cumsum(e*wb)/wg\n",
    "\n",
    "# calculations with the canonical density matrix\n",
    "beta=arange(-1.95,2.0,0.05)\n",
    "betalambda = outer( beta, e)\n",
    "zc= dot( exp(-betalambda) , wb) # to have the right degeneracies\n",
    "ec= dot( exp(-betalambda)*betalambda , wb) # to have the right degeneracies\n",
    "ec= ec/zc/beta\n",
    "sc= log(zc)+beta*ec\n",
    "\n",
    "\n",
    "# calculations with grandcanonical density matrix\n",
    "#def nB( beta, x, bmu):\n",
    "    #return 1.0/(exp(beta*x-bmu)-1.0)\n",
    "#def sB( nb):\n",
    "    #return -nb*log(nb)+(1.0+nb)*log(1.0+nb)\n",
    "    \n",
    "\n",
    "#betamu0=arange(log((N/2.0)/(L+1.0+N/2.0)),log((N+2.0)/(N+3.0))+0.05, 0.05)\n",
    "#egrand=0.0*beta\n",
    "#sgrand=0.0*beta\n",
    "#print '# calculating the grandcanonical ensemble'\n",
    "#for index,b in enumerate(beta):\n",
    "    #if( b > 0):\n",
    "        #betamu = betamu0\n",
    "    #else:\n",
    "        #betamu = b*L+betamu0\n",
    "    #tbln=[[nB( b, x, bm) for x in arange(0,L+1)] for bm in betamu]\n",
    "    #tble=[[x*nB( b, x, bm) for x in arange(0,L+1)] for bm in betamu]\n",
    "    #tbls=[[sB(nB( b, x, bm)) for x in arange(0,L+1)] for bm in betamu]\n",
    "    #e0=sp.interp1d( sum(tbln,axis=1),  sum(tble,axis=1), 2)(N) # simple interpolation\n",
    "    #s0=sp.interp1d( sum(tbln,axis=1),  sum(tbls,axis=1), 2)(N) # simple interpolation\n",
    "    #egrand[index]=e0\n",
    "    #sgrand[index]=s0\n",
    "    \n",
    "# plotting\n",
    "subplot(2,1,1)\n",
    "plot( e/N-L/2,log(wb)/N,'bo-',label=r'$S_{mc}$')\n",
    "plot( eg/N-L/2,log(wg)/N,'ro-',label=r'$S_{imc}$')\n",
    "plot( ec/N-L/2, sc/N, 'k-', label=r'$S_{c}$')\n",
    "#plot( egrand/N-L/2, sgrand/N, 'kx-', label=r'$S_{grand}$')\n",
    "plot( e/N-L/2,log(wg)/N,'mo-',markersize=4,label=r'$S_{DH}$')\n",
    "xlabel(r'$E/(\\Delta N)-L/2$', size=16)\n",
    "ylabel(r'$S/N$', size=16)\n",
    "legend(loc=8, ncol=2)\n",
    "text(-5,1.1, txt, size=16)\n",
    "axvline(0.,color='k')\n",
    "xlim(-(L+1)/2.,(L+1)/2.)\n",
    "\n",
    "subplot(2,1,2)\n",
    "# we use numpy's gradient() method to generate differentials with equal list lengths\n",
    "plot( e/N-L/2, gradient(log(wb))/gradient(e),'bo-',label=r'$T_{mc}^{-1}$')\n",
    "plot( eg/N-L/2,gradient(log(wg))/gradient(eg),'ro-',label=r'$T_{imc}^{-1}$')\n",
    "plot( ec/N-L/2, beta, 'k-', label=r'$T_{c}^{-1}$')\n",
    "plot( e/N-L/2, wb/wg, 'mo-',markersize=4, label=r'$T_{DH}^{-1}$')\n",
    "#plot( egrand/N-L/2, beta, 'kx-', label=r'$T_{grand}^{-1}$')\n",
    "xlabel(r'$E/(\\Delta N)-L/2$', size=16)\n",
    "ylabel(r'$\\Delta/ k_B T$', size=16)\n",
    "legend(loc=8,ncol=2)\n",
    "axhline(0.,color='k')\n",
    "axvline(0.,color='k')\n",
    "xlim(-(L+1)/2.,(L+1)/2.)\n",
    "ylim(-1.,1.)\n",
    "\n",
    "\n",
    "savefig('bosons.png')\n",
    "gcf().canvas.set_window_title('%d bosons in %d+1 levels' % (N,L))\n",
    "\n",
    "show()"
   ]
  },
  {
   "cell_type": "markdown",
   "metadata": {},
   "source": [
    "![caption](bosons.png \"Bosons\")"
   ]
  }
 ],
 "metadata": {
  "kernelspec": {
   "display_name": "Python 3",
   "language": "python",
   "name": "python3"
  },
  "language_info": {
   "codemirror_mode": {
    "name": "ipython",
    "version": 3
   },
   "file_extension": ".py",
   "mimetype": "text/x-python",
   "name": "python",
   "nbconvert_exporter": "python",
   "pygments_lexer": "ipython3",
   "version": "3.5.1"
  }
 },
 "nbformat": 4,
 "nbformat_minor": 0
}
