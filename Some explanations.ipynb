{
 "cells": [
  {
   "cell_type": "markdown",
   "metadata": {},
   "source": [
    "# 1 Axioms\n",
    "\n",
    "The Hamiltonian $H$ is some Hermitian operator on some Hilbert space ${\\cal H}$.\n",
    "\n",
    "The density matrix $\\rho$ is a semipositive $\\rho \\geq 0$ Hermitian operator on ${\\cal H}$\n",
    "with unit trace:\n",
    "$$\n",
    "{\\rm Tr}\\; \\rho = 1\n",
    "$$\n",
    "\n",
    "In the special case when \n",
    "$$\n",
    "  0 = [\\rho, H] \n",
    "$$\n",
    "the density matrix $\\rho$ is invariant under the unitary time evolution\n",
    "$$\n",
    " {\\cal U} = e^{-i t H} \\quad [\\hbar = 1]\n",
    "$$\n",
    "\n",
    "\n",
    "Expectation values of physical quantities $\\cal O$ are given by\n",
    "$$\n",
    "  O = {\\rm Tr}\\; \\rho {\\cal O}\n",
    "$$\n",
    "For example, the energy of the system is\n",
    "$$\n",
    "    E =  {\\rm Tr}\\; \\rho H\n",
    "$$\n",
    "\n",
    "\n",
    "# 2 Special ensembles\n",
    "\n",
    "There are special density matrices that have a special role in describing classical thermodynamical ensembles.\n",
    "With  $\\lbrace |\\lambda \\lvert \\rbrace$ the set of eigenvectors of $H$, \n",
    "$$\n",
    "    \\rho = {\\cal N}^{-1} \\sum_\\lambda f(\\epsilon_\\lambda) \n",
    "$$\n",
    "\n",
    "\n",
    "| Density matrix | $$\\quad f(x)\\quad$$      | norm. $\\cal N$     | Ensemble            |\n",
    "|----------------|--------------------------|--------------------|---------------------|\n",
    "| Boltzmann      | $$\\delta(x - {\\cal E})$$ | density of states  | microcanonical      |\n",
    "| Integrated     | $$\\theta(x - {\\cal E})$$ | integrated D.o.S.  | int. microcanonical |\n",
    "| Canonical      | $$e^{-\\beta x }$$        | partition function | canonical           |\n",
    "\n",
    "\n",
    "\n",
    "# 3 Entropy\n",
    "\n",
    "A nice summary can be found in [\"General properties of entropy\", Alfred Wehrl, Rev. Mod. Phys. 50, 221 (1978)](http://journals.aps.org/rmp/abstract/10.1103/RevModPhys.50.221)\n",
    "\n",
    "Very often the entropy is defined as \n",
    "$$\n",
    "    S[\\rho] = -{\\rm Tr}\\; \\rho \\ln \\rho\n",
    "$$\n",
    "\n",
    "\n",
    "\n",
    "\n",
    "\n",
    "\n",
    "\n",
    "\n",
    "\n",
    "\n"
   ]
  },
  {
   "cell_type": "code",
   "execution_count": null,
   "metadata": {
    "collapsed": true
   },
   "outputs": [],
   "source": []
  },
  {
   "cell_type": "code",
   "execution_count": null,
   "metadata": {
    "collapsed": true
   },
   "outputs": [],
   "source": []
  }
 ],
 "metadata": {
  "kernelspec": {
   "display_name": "Python 3",
   "language": "python",
   "name": "python3"
  },
  "language_info": {
   "codemirror_mode": {
    "name": "ipython",
    "version": 3
   },
   "file_extension": ".py",
   "mimetype": "text/x-python",
   "name": "python",
   "nbconvert_exporter": "python",
   "pygments_lexer": "ipython3",
   "version": "3.5.1"
  }
 },
 "nbformat": 4,
 "nbformat_minor": 0
}
