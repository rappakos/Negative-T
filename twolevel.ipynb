{
 "cells": [
  {
   "cell_type": "code",
   "execution_count": null,
   "metadata": {
    "collapsed": true
   },
   "outputs": [],
   "source": [
    "from pylab import *\n",
    "\n",
    "# close()\n",
    "\n",
    "# number of spins\n",
    "N=2**6\n",
    "\n",
    "# possible number of down spins\n",
    "m=arange(0,N+1) # this is needed to include m=N\n",
    "\n",
    "# energy levels\n",
    "e=-N+2.0*m\n",
    "\n",
    "# generate binomial coefficients = Boltzmann density of states\n",
    "wb=e-e\n",
    "wb[0]=1.0\n",
    "for i in range(N):\n",
    "    w2= roll(wb,1)\n",
    "    wb += w2\n",
    "\n",
    "# accumulate for Gibbs\n",
    "wg= cumsum(wb)\n",
    "eg= cumsum(wb*e)\n",
    "eg= eg/wg\n",
    "\n",
    "# entropies\n",
    "sb= log(wb)\n",
    "sg= log(wg)\n",
    "\n",
    "# canonical entropy and inverse temp.\n",
    "ec=arange(-0.9999,1.,0.01)\n",
    "sc=log(2.0) -0.5 * log(1.0-ec*ec) - ec*arctanh(ec)\n",
    "tcinv=0.5*log((1.0-ec)/(1.0+ec))\n",
    "\n",
    "subplot(2,1,1)\n",
    "xlabel(\"$E/\\Delta N$\",fontsize=24)\n",
    "ylabel(\"$S/N$\",fontsize=24)\n",
    "plot( e/N, sb/N, 'ro-')\n",
    "plot( eg/N, sg/N, 'bo-')\n",
    "plot( ec, sc, 'k-')\n",
    "axvline(0.,color='k')\n",
    "\n",
    "subplot(2,1,2)\n",
    "xlabel(\"$E/\\Delta N$\",fontsize=24)\n",
    "ylabel(\"$\\Delta/k_B T$\",fontsize=24)\n",
    "plot( e/N, gradient(sb)/gradient(e), 'ro-')\n",
    "plot( eg/N, gradient(sg)/gradient(eg), 'bo-')\n",
    "plot( ec, tcinv, 'k-')\n",
    "axhline(0.,color='k')\n",
    "axvline(0.,color='k')\n",
    "ylim([-2.,2.])\n",
    "\n",
    "\n",
    "show()"
   ]
  }
 ],
 "metadata": {
  "kernelspec": {
   "display_name": "Python 3",
   "language": "python",
   "name": "python3"
  },
  "language_info": {
   "codemirror_mode": {
    "name": "ipython",
    "version": 3
   },
   "file_extension": ".py",
   "mimetype": "text/x-python",
   "name": "python",
   "nbconvert_exporter": "python",
   "pygments_lexer": "ipython3",
   "version": "3.5.1"
  }
 },
 "nbformat": 4,
 "nbformat_minor": 0
}
